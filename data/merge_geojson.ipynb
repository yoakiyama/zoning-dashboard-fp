{
 "cells": [
  {
   "cell_type": "code",
   "execution_count": 1,
   "metadata": {},
   "outputs": [],
   "source": [
    "import pandas as pd\n",
    "import numpy as np\n",
    "import json\n",
    "import os\n",
    "from copy import deepcopy"
   ]
  },
  {
   "cell_type": "code",
   "execution_count": 2,
   "metadata": {},
   "outputs": [],
   "source": [
    "with open(\"geographic/Boston_Cambridge_rent.geojson\", \"r\") as oFile:\n",
    "    rent_json = json.load(oFile)\n",
    "\n",
    "with open(\"employment_opportunities/Boston_Cambridge_salary.geojson\", \"r\") as oFile:\n",
    "    salary_json = json.load(oFile)\n",
    "\n",
    "with open(\"transportation/mbta/map_layers/Boston_Cambridge_commute.geojson\", \"r\") as oFile:\n",
    "    commute_json = json.load(oFile)"
   ]
  },
  {
   "cell_type": "code",
   "execution_count": 3,
   "metadata": {},
   "outputs": [],
   "source": [
    "std_rent_features = {}\n",
    "for feature_d in rent_json['features']:\n",
    "    std_feature_d = deepcopy(feature_d)\n",
    "    rent_prop = std_feature_d.pop('properties')\n",
    "    neighborhood = rent_prop.pop('neighborhood')\n",
    "    std_rent_features[neighborhood] = rent_prop\n"
   ]
  },
  {
   "cell_type": "code",
   "execution_count": 4,
   "metadata": {},
   "outputs": [],
   "source": [
    "std_salary_features = {}\n",
    "for feature_d in salary_json['features']:\n",
    "    std_feature_d = deepcopy(feature_d)\n",
    "    salary_prop = std_feature_d.pop('properties')\n",
    "    neighborhood = salary_prop.pop('neighborhood')\n",
    "    std_salary_features[neighborhood] = salary_prop"
   ]
  },
  {
   "cell_type": "code",
   "execution_count": 5,
   "metadata": {},
   "outputs": [],
   "source": [
    "std_features = []\n",
    "for feature_d in commute_json['features']:\n",
    "    std_feature_d = deepcopy(feature_d)\n",
    "    commute_prop = std_feature_d.pop('properties')\n",
    "    neighborhood = commute_prop['neighborhood']\n",
    "    commute_prop.update(std_salary_features[neighborhood])\n",
    "    commute_prop.update(std_rent_features[neighborhood])\n",
    "    std_feature_d['properties'] = commute_prop\n",
    "    std_features.append(std_feature_d)"
   ]
  },
  {
   "cell_type": "code",
   "execution_count": 6,
   "metadata": {},
   "outputs": [],
   "source": [
    "combined_json = {}\n",
    "combined_json['type'] = 'FeatureCollection'\n",
    "combined_json['features'] = std_features"
   ]
  },
  {
   "cell_type": "code",
   "execution_count": 7,
   "metadata": {},
   "outputs": [],
   "source": [
    "with open(\"Boston_Cambridge_all.geojson\", 'w') as oFile:\n",
    "    json.dump(combined_json, oFile)"
   ]
  },
  {
   "cell_type": "code",
   "execution_count": null,
   "metadata": {},
   "outputs": [],
   "source": []
  }
 ],
 "metadata": {
  "kernelspec": {
   "display_name": "base",
   "language": "python",
   "name": "python3"
  },
  "language_info": {
   "codemirror_mode": {
    "name": "ipython",
    "version": 3
   },
   "file_extension": ".py",
   "mimetype": "text/x-python",
   "name": "python",
   "nbconvert_exporter": "python",
   "pygments_lexer": "ipython3",
   "version": "3.11.4"
  }
 },
 "nbformat": 4,
 "nbformat_minor": 2
}
